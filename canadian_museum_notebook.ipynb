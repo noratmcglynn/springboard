{
 "cells": [
  {
   "cell_type": "code",
   "execution_count": 410,
   "metadata": {
    "collapsed": false
   },
   "outputs": [],
   "source": [
    "%matplotlib inline\n",
    "import pandas as pd"
   ]
  },
  {
   "cell_type": "code",
   "execution_count": 411,
   "metadata": {
    "collapsed": false
   },
   "outputs": [
    {
     "data": {
      "text/html": [
       "<div>\n",
       "<table border=\"1\" class=\"dataframe\">\n",
       "  <thead>\n",
       "    <tr style=\"text-align: right;\">\n",
       "      <th></th>\n",
       "      <th>artifactNumber</th>\n",
       "      <th>ObjectName</th>\n",
       "      <th>GeneralDescription</th>\n",
       "      <th>model</th>\n",
       "      <th>SerialNumber</th>\n",
       "      <th>Manufacturer</th>\n",
       "      <th>ManuCountry</th>\n",
       "      <th>ManuProvince</th>\n",
       "      <th>ManuCity</th>\n",
       "      <th>BeginDate</th>\n",
       "      <th>...</th>\n",
       "      <th>material</th>\n",
       "      <th>Length</th>\n",
       "      <th>Width</th>\n",
       "      <th>Height</th>\n",
       "      <th>Thickness</th>\n",
       "      <th>Weight</th>\n",
       "      <th>Diameter</th>\n",
       "      <th>image</th>\n",
       "      <th>thumbnail</th>\n",
       "      <th>Unnamed: 36</th>\n",
       "    </tr>\n",
       "  </thead>\n",
       "  <tbody>\n",
       "    <tr>\n",
       "      <th>0</th>\n",
       "      <td>1966.0001.001</td>\n",
       "      <td>Cover</td>\n",
       "      <td>PAPER</td>\n",
       "      <td>WESTERN CANADA AIRWAYS LTD.</td>\n",
       "      <td>NaN</td>\n",
       "      <td>Unknown</td>\n",
       "      <td>Unknown</td>\n",
       "      <td>NaN</td>\n",
       "      <td>NaN</td>\n",
       "      <td>1927</td>\n",
       "      <td>...</td>\n",
       "      <td>paper</td>\n",
       "      <td>4.5 cm</td>\n",
       "      <td>2.6 cm</td>\n",
       "      <td>NaN</td>\n",
       "      <td>NaN</td>\n",
       "      <td>NaN</td>\n",
       "      <td>NaN</td>\n",
       "      <td>http://source.techno-science.ca/artifacts-arte...</td>\n",
       "      <td>http://source.techno-science.ca/artifacts-arte...</td>\n",
       "      <td>NaN</td>\n",
       "    </tr>\n",
       "    <tr>\n",
       "      <th>1</th>\n",
       "      <td>1966.0002.001</td>\n",
       "      <td>Stamp, postage</td>\n",
       "      <td>PAPER</td>\n",
       "      <td>WESTERN CANADA AIRWAYS LTD.</td>\n",
       "      <td>NaN</td>\n",
       "      <td>Unknown</td>\n",
       "      <td>Unknown</td>\n",
       "      <td>NaN</td>\n",
       "      <td>NaN</td>\n",
       "      <td>1927</td>\n",
       "      <td>...</td>\n",
       "      <td>paper</td>\n",
       "      <td>3.8 cm</td>\n",
       "      <td>2.7 cm</td>\n",
       "      <td>NaN</td>\n",
       "      <td>NaN</td>\n",
       "      <td>NaN</td>\n",
       "      <td>NaN</td>\n",
       "      <td>http://source.techno-science.ca/artifacts-arte...</td>\n",
       "      <td>http://source.techno-science.ca/artifacts-arte...</td>\n",
       "      <td>NaN</td>\n",
       "    </tr>\n",
       "  </tbody>\n",
       "</table>\n",
       "<p>2 rows × 37 columns</p>\n",
       "</div>"
      ],
      "text/plain": [
       "  artifactNumber      ObjectName GeneralDescription  \\\n",
       "0  1966.0001.001           Cover              PAPER   \n",
       "1  1966.0002.001  Stamp, postage              PAPER   \n",
       "\n",
       "                         model SerialNumber Manufacturer ManuCountry  \\\n",
       "0  WESTERN CANADA AIRWAYS LTD.          NaN      Unknown     Unknown   \n",
       "1  WESTERN CANADA AIRWAYS LTD.          NaN      Unknown     Unknown   \n",
       "\n",
       "  ManuProvince ManuCity BeginDate     ...     material  Length   Width  \\\n",
       "0          NaN      NaN      1927     ...        paper  4.5 cm  2.6 cm   \n",
       "1          NaN      NaN      1927     ...        paper  3.8 cm  2.7 cm   \n",
       "\n",
       "   Height Thickness Weight Diameter  \\\n",
       "0     NaN       NaN    NaN      NaN   \n",
       "1     NaN       NaN    NaN      NaN   \n",
       "\n",
       "                                               image  \\\n",
       "0  http://source.techno-science.ca/artifacts-arte...   \n",
       "1  http://source.techno-science.ca/artifacts-arte...   \n",
       "\n",
       "                                           thumbnail Unnamed: 36  \n",
       "0  http://source.techno-science.ca/artifacts-arte...         NaN  \n",
       "1  http://source.techno-science.ca/artifacts-arte...         NaN  \n",
       "\n",
       "[2 rows x 37 columns]"
      ]
     },
     "execution_count": 411,
     "metadata": {},
     "output_type": "execute_result"
    }
   ],
   "source": [
    "#df = pd.read.from_csv('canadian_museum_test2.csv', index_col=None)\n",
    "##titles.head()\n",
    "df = pd.read_csv('canadian_museum_test.csv')\n",
    "\n",
    "df = df.rename(columns={\n",
    "    'Unnamed:36' : 'M_pimage',})\n",
    "df.head(2)"
   ]
  },
  {
   "cell_type": "code",
   "execution_count": 91,
   "metadata": {
    "collapsed": false
   },
   "outputs": [],
   "source": [
    "##rd = release_dates\n",
    "##rd = rd[rd.title.str.contains('Christmas')]\n",
    "##rd = rd[rd.country == 'USA']\n",
    "##rd.date.dt.month.value_counts().sort_index().plot(kind='bar')\n",
    "\n",
    "# bd = df\n",
    "# bd = bd[bd.BeginDate // 10 * 10]\n",
    "# bd.sort_index.plot(kind='bar')"
   ]
  },
  {
   "cell_type": "code",
   "execution_count": 412,
   "metadata": {
    "collapsed": false
   },
   "outputs": [
    {
     "data": {
      "text/plain": [
       "Index([u'artifactNumber', u'ObjectName', u'GeneralDescription', u'model',\n",
       "       u'SerialNumber', u'Manufacturer', u'ManuCountry', u'ManuProvince',\n",
       "       u'ManuCity', u'BeginDate', u'EndDate', u'date_qualifier', u'patent',\n",
       "       u'NumberOfComponents', u'ArtifactFinish', u'ContextCanada',\n",
       "       u'ContextFunction', u'ContextTechnical', u'group1', u'category1',\n",
       "       u'subcategory1', u'group2', u'category2', u'subcategory2', u'group3',\n",
       "       u'category3', u'subcategory3', u'material', u'Length', u'Width',\n",
       "       u'Height', u'Thickness', u'Weight', u'Diameter', u'image', u'thumbnail',\n",
       "       u'Unnamed: 36'],\n",
       "      dtype='object')"
      ]
     },
     "execution_count": 412,
     "metadata": {},
     "output_type": "execute_result"
    }
   ],
   "source": [
    "df.columns"
   ]
  },
  {
   "cell_type": "code",
   "execution_count": 441,
   "metadata": {
    "collapsed": false
   },
   "outputs": [],
   "source": [
    "df.Length = df.Length.fillna('')\n",
    "df.Width = df.Width.fillna('')\n",
    "df.Height = df.Height.fillna('')\n",
    "df.Weight = df.Weight.fillna('')\n",
    "df.Thickness = df.Thickness.fillna('')\n",
    "df.Diameter = df.Diameter.fillna('')\n",
    "df.BeginDate = df.BeginDate.fillna(50)\n",
    "df.EndDate = df.EndDate.fillna(50)"
   ]
  },
  {
   "cell_type": "code",
   "execution_count": 65,
   "metadata": {
    "collapsed": false
   },
   "outputs": [
    {
     "data": {
      "text/html": [
       "<div>\n",
       "<table border=\"1\" class=\"dataframe\">\n",
       "  <thead>\n",
       "    <tr style=\"text-align: right;\">\n",
       "      <th></th>\n",
       "      <th>artifactNumber</th>\n",
       "      <th>material</th>\n",
       "      <th>Length</th>\n",
       "      <th>Width</th>\n",
       "      <th>Height</th>\n",
       "      <th>Thickness</th>\n",
       "      <th>Weight</th>\n",
       "      <th>Diameter</th>\n",
       "    </tr>\n",
       "  </thead>\n",
       "  <tbody>\n",
       "    <tr>\n",
       "      <th>1933</th>\n",
       "      <td>1966.0971.001</td>\n",
       "      <td>paper-&gt;cardboard;wood-&gt;;glass-&gt;;metal-&gt;steel</td>\n",
       "      <td>49.8 cm</td>\n",
       "      <td>38.8 cm</td>\n",
       "      <td>NaN</td>\n",
       "      <td>NaN</td>\n",
       "      <td>1.9 cm</td>\n",
       "      <td>NaN</td>\n",
       "    </tr>\n",
       "    <tr>\n",
       "      <th>1940</th>\n",
       "      <td>1966.0978.001</td>\n",
       "      <td>paper-&gt;;glass-&gt;;synthetic-&gt;plastic;metal-&gt;steel</td>\n",
       "      <td>45.3 cm</td>\n",
       "      <td>40.0 cm</td>\n",
       "      <td>NaN</td>\n",
       "      <td>NaN</td>\n",
       "      <td>2.3 cm</td>\n",
       "      <td>NaN</td>\n",
       "    </tr>\n",
       "    <tr>\n",
       "      <th>38417</th>\n",
       "      <td>1984.1346.002</td>\n",
       "      <td>skin-&gt;leather;fibre</td>\n",
       "      <td>19.5 cm</td>\n",
       "      <td>NaN</td>\n",
       "      <td>NaN</td>\n",
       "      <td>1.2 cm</td>\n",
       "      <td>13.3 cm</td>\n",
       "      <td>NaN</td>\n",
       "    </tr>\n",
       "    <tr>\n",
       "      <th>53534</th>\n",
       "      <td>1989.0488.001</td>\n",
       "      <td>synthetic-&gt;plastic;metal-&gt;aluminum - possible</td>\n",
       "      <td>28.0 cm</td>\n",
       "      <td>25.2 cm</td>\n",
       "      <td>NaN</td>\n",
       "      <td>NaN</td>\n",
       "      <td>1.0 cm</td>\n",
       "      <td>NaN</td>\n",
       "    </tr>\n",
       "    <tr>\n",
       "      <th>57845</th>\n",
       "      <td>1991.0773.001</td>\n",
       "      <td>synthetic-&gt;plastic;metal-&gt;aluminum - possible</td>\n",
       "      <td>28.6 cm</td>\n",
       "      <td>25.5 cm</td>\n",
       "      <td>NaN</td>\n",
       "      <td>NaN</td>\n",
       "      <td>1.0 cm</td>\n",
       "      <td>NaN</td>\n",
       "    </tr>\n",
       "    <tr>\n",
       "      <th>57864</th>\n",
       "      <td>1991.0788.001</td>\n",
       "      <td>paper-&gt;;glass-&gt;;metal-&gt;aluminum;metal-&gt;steel</td>\n",
       "      <td>71.5 cm</td>\n",
       "      <td>NaN</td>\n",
       "      <td>NaN</td>\n",
       "      <td>2.3 cm</td>\n",
       "      <td>55.7 cm</td>\n",
       "      <td>NaN</td>\n",
       "    </tr>\n",
       "    <tr>\n",
       "      <th>66771</th>\n",
       "      <td>1994.0626.001</td>\n",
       "      <td>paper-&gt;;wood-&gt;;metal-&gt;steel</td>\n",
       "      <td>51.1 cm</td>\n",
       "      <td>41.0 cm</td>\n",
       "      <td>NaN</td>\n",
       "      <td>NaN</td>\n",
       "      <td>1.0 cm</td>\n",
       "      <td>NaN</td>\n",
       "    </tr>\n",
       "    <tr>\n",
       "      <th>74964</th>\n",
       "      <td>1996.0625.002</td>\n",
       "      <td>paper-&gt;cardboard;synthetic</td>\n",
       "      <td>19.4 cm</td>\n",
       "      <td>NaN</td>\n",
       "      <td>NaN</td>\n",
       "      <td>1.2 cm</td>\n",
       "      <td>11.8 cm</td>\n",
       "      <td>NaN</td>\n",
       "    </tr>\n",
       "    <tr>\n",
       "      <th>76201</th>\n",
       "      <td>1997.0162.003</td>\n",
       "      <td>wood-&gt;;metal-&gt;brass;fibre-&gt;felt</td>\n",
       "      <td>43.8 cm</td>\n",
       "      <td>NaN</td>\n",
       "      <td>21.3 cm</td>\n",
       "      <td>NaN</td>\n",
       "      <td>23.0 cm</td>\n",
       "      <td>NaN</td>\n",
       "    </tr>\n",
       "    <tr>\n",
       "      <th>87612</th>\n",
       "      <td>2002.0430.001</td>\n",
       "      <td>paper-&gt;cardboard;glass-&gt;;metal-&gt;aluminum;metal...</td>\n",
       "      <td>62.0 cm</td>\n",
       "      <td>NaN</td>\n",
       "      <td>NaN</td>\n",
       "      <td>2.3 cm</td>\n",
       "      <td>46.5 cm</td>\n",
       "      <td>NaN</td>\n",
       "    </tr>\n",
       "    <tr>\n",
       "      <th>91348</th>\n",
       "      <td>2004.0013.005</td>\n",
       "      <td>skin-&gt;leather;metal-&gt;;fibre-&gt;cotton</td>\n",
       "      <td>14.7 cm</td>\n",
       "      <td>NaN</td>\n",
       "      <td>6.4 cm</td>\n",
       "      <td>NaN</td>\n",
       "      <td>4.2 cm</td>\n",
       "      <td>NaN</td>\n",
       "    </tr>\n",
       "    <tr>\n",
       "      <th>91349</th>\n",
       "      <td>2004.0013.006</td>\n",
       "      <td>skin-&gt;leather;metal-&gt;;fibre-&gt;cotton</td>\n",
       "      <td>14.7 cm</td>\n",
       "      <td>NaN</td>\n",
       "      <td>16.5 cm</td>\n",
       "      <td>NaN</td>\n",
       "      <td>8.5 cm</td>\n",
       "      <td>NaN</td>\n",
       "    </tr>\n",
       "    <tr>\n",
       "      <th>91558</th>\n",
       "      <td>2004.0129.001</td>\n",
       "      <td>paper-&gt;cardboard;glass-&gt;;fibre-&gt;;wood-&gt;;metal-...</td>\n",
       "      <td>44.0 cm</td>\n",
       "      <td>40.0 cm</td>\n",
       "      <td>NaN</td>\n",
       "      <td>NaN</td>\n",
       "      <td>2.5 cm</td>\n",
       "      <td>NaN</td>\n",
       "    </tr>\n",
       "    <tr>\n",
       "      <th>91884</th>\n",
       "      <td>2004.0305.015</td>\n",
       "      <td>paper-&gt;cardboard</td>\n",
       "      <td>49.0 cm</td>\n",
       "      <td>NaN</td>\n",
       "      <td>54.0 cm</td>\n",
       "      <td>NaN</td>\n",
       "      <td>37.0 cm</td>\n",
       "      <td>NaN</td>\n",
       "    </tr>\n",
       "  </tbody>\n",
       "</table>\n",
       "</div>"
      ],
      "text/plain": [
       "      artifactNumber                                           material  \\\n",
       "1933   1966.0971.001       paper->cardboard;wood->;glass->;metal->steel   \n",
       "1940   1966.0978.001    paper->;glass->;synthetic->plastic;metal->steel   \n",
       "38417  1984.1346.002                                skin->leather;fibre   \n",
       "53534  1989.0488.001      synthetic->plastic;metal->aluminum - possible   \n",
       "57845  1991.0773.001      synthetic->plastic;metal->aluminum - possible   \n",
       "57864  1991.0788.001       paper->;glass->;metal->aluminum;metal->steel   \n",
       "66771  1994.0626.001                        paper->;wood->;metal->steel   \n",
       "74964  1996.0625.002                         paper->cardboard;synthetic   \n",
       "76201  1997.0162.003                    wood->;metal->brass;fibre->felt   \n",
       "87612  2002.0430.001  paper->cardboard;glass->;metal->aluminum;metal...   \n",
       "91348  2004.0013.005                skin->leather;metal->;fibre->cotton   \n",
       "91349  2004.0013.006                skin->leather;metal->;fibre->cotton   \n",
       "91558  2004.0129.001  paper->cardboard;glass->;fibre->;wood->;metal-...   \n",
       "91884  2004.0305.015                                   paper->cardboard   \n",
       "\n",
       "        Length    Width   Height Thickness   Weight Diameter  \n",
       "1933   49.8 cm  38.8 cm      NaN       NaN   1.9 cm      NaN  \n",
       "1940   45.3 cm  40.0 cm      NaN       NaN   2.3 cm      NaN  \n",
       "38417  19.5 cm      NaN      NaN    1.2 cm  13.3 cm      NaN  \n",
       "53534  28.0 cm  25.2 cm      NaN       NaN   1.0 cm      NaN  \n",
       "57845  28.6 cm  25.5 cm      NaN       NaN   1.0 cm      NaN  \n",
       "57864  71.5 cm      NaN      NaN    2.3 cm  55.7 cm      NaN  \n",
       "66771  51.1 cm  41.0 cm      NaN       NaN   1.0 cm      NaN  \n",
       "74964  19.4 cm      NaN      NaN    1.2 cm  11.8 cm      NaN  \n",
       "76201  43.8 cm      NaN  21.3 cm       NaN  23.0 cm      NaN  \n",
       "87612  62.0 cm      NaN      NaN    2.3 cm  46.5 cm      NaN  \n",
       "91348  14.7 cm      NaN   6.4 cm       NaN   4.2 cm      NaN  \n",
       "91349  14.7 cm      NaN  16.5 cm       NaN   8.5 cm      NaN  \n",
       "91558  44.0 cm  40.0 cm      NaN       NaN   2.5 cm      NaN  \n",
       "91884  49.0 cm      NaN  54.0 cm       NaN  37.0 cm      NaN  "
      ]
     },
     "execution_count": 65,
     "metadata": {},
     "output_type": "execute_result"
    }
   ],
   "source": [
    "# df.loc[df.Weight.str.contains('cm'),['artifactNumber','material','Length','Width','Height','Thickness','Weight','Diameter']]"
   ]
  },
  {
   "cell_type": "code",
   "execution_count": 282,
   "metadata": {
    "collapsed": true
   },
   "outputs": [],
   "source": [
    "dims = ['Length', 'Width','Height', 'Thickness', 'Weight', 'Diameter']"
   ]
  },
  {
   "cell_type": "code",
   "execution_count": 414,
   "metadata": {
    "collapsed": false
   },
   "outputs": [
    {
     "name": "stdout",
     "output_type": "stream",
     "text": [
      "Length\n",
      "['cm' '' 'M' 'CM' 'm']\n",
      "Width\n",
      "['cm' '' 'M' 'CM']\n",
      "Height\n",
      "['' 'cm' 'M' 'kg' 'mm']\n",
      "Thickness\n",
      "['' 'cm' 'kg' 'CM']\n",
      "Weight\n",
      "['' 'kg' 'cm' 'gm']\n",
      "Diameter\n",
      "['' 'cm' 'M']\n"
     ]
    }
   ],
   "source": [
    "for i in dims:\n",
    "    print i\n",
    "    uniq_lens = df.loc[:,[i]].drop_duplicates()\n",
    "    uniq_lens[i] = uniq_lens[i].fillna('')\n",
    "    uniq_lens['ends'] = uniq_lens[i].map(lambda x:x.split(' ')[-1])\n",
    "    print uniq_lens.ends.unique()"
   ]
  },
  {
   "cell_type": "code",
   "execution_count": 415,
   "metadata": {
    "collapsed": false
   },
   "outputs": [
    {
     "data": {
      "text/html": [
       "<div>\n",
       "<table border=\"1\" class=\"dataframe\">\n",
       "  <thead>\n",
       "    <tr style=\"text-align: right;\">\n",
       "      <th></th>\n",
       "      <th>artifactNumber</th>\n",
       "      <th>ObjectName</th>\n",
       "      <th>GeneralDescription</th>\n",
       "      <th>model</th>\n",
       "      <th>SerialNumber</th>\n",
       "      <th>Manufacturer</th>\n",
       "      <th>ManuCountry</th>\n",
       "      <th>ManuProvince</th>\n",
       "      <th>ManuCity</th>\n",
       "      <th>BeginDate</th>\n",
       "      <th>...</th>\n",
       "      <th>material</th>\n",
       "      <th>Length</th>\n",
       "      <th>Width</th>\n",
       "      <th>Height</th>\n",
       "      <th>Thickness</th>\n",
       "      <th>Weight</th>\n",
       "      <th>Diameter</th>\n",
       "      <th>image</th>\n",
       "      <th>thumbnail</th>\n",
       "      <th>Unnamed: 36</th>\n",
       "    </tr>\n",
       "  </thead>\n",
       "  <tbody>\n",
       "    <tr>\n",
       "      <th>3213</th>\n",
       "      <td>1967.0901.017</td>\n",
       "      <td>Valve, elevator control</td>\n",
       "      <td>predom. steel &amp; aluminum/ pt.8 glass bottle wi...</td>\n",
       "      <td>NaN</td>\n",
       "      <td>NaN</td>\n",
       "      <td>Minneapolis-Honeywell Regulator Co.</td>\n",
       "      <td>United States of America</td>\n",
       "      <td>NaN</td>\n",
       "      <td>NaN</td>\n",
       "      <td>1959</td>\n",
       "      <td>...</td>\n",
       "      <td>metal-&gt;steel;metal-&gt;aluminum;glass-&gt;;synthetic...</td>\n",
       "      <td>220.2 cm</td>\n",
       "      <td>13.0 cm</td>\n",
       "      <td>7.5 kg</td>\n",
       "      <td></td>\n",
       "      <td></td>\n",
       "      <td></td>\n",
       "      <td>http://source.techno-science.ca/artifacts-arte...</td>\n",
       "      <td>http://source.techno-science.ca/artifacts-arte...</td>\n",
       "      <td>NaN</td>\n",
       "    </tr>\n",
       "  </tbody>\n",
       "</table>\n",
       "<p>1 rows × 37 columns</p>\n",
       "</div>"
      ],
      "text/plain": [
       "     artifactNumber               ObjectName  \\\n",
       "3213  1967.0901.017  Valve, elevator control   \n",
       "\n",
       "                                     GeneralDescription model SerialNumber  \\\n",
       "3213  predom. steel & aluminum/ pt.8 glass bottle wi...   NaN          NaN   \n",
       "\n",
       "                             Manufacturer               ManuCountry  \\\n",
       "3213  Minneapolis-Honeywell Regulator Co.  United States of America   \n",
       "\n",
       "     ManuProvince ManuCity BeginDate     ...      \\\n",
       "3213          NaN      NaN      1959     ...       \n",
       "\n",
       "                                               material    Length    Width  \\\n",
       "3213  metal->steel;metal->aluminum;glass->;synthetic...  220.2 cm  13.0 cm   \n",
       "\n",
       "      Height Thickness Weight Diameter  \\\n",
       "3213  7.5 kg                             \n",
       "\n",
       "                                                  image  \\\n",
       "3213  http://source.techno-science.ca/artifacts-arte...   \n",
       "\n",
       "                                              thumbnail Unnamed: 36  \n",
       "3213  http://source.techno-science.ca/artifacts-arte...         NaN  \n",
       "\n",
       "[1 rows x 37 columns]"
      ]
     },
     "execution_count": 415,
     "metadata": {},
     "output_type": "execute_result"
    }
   ],
   "source": [
    "df[df.Height.str.contains('kg',case=False)]\n",
    "############## Move Height where 'kg' to Weight ######"
   ]
  },
  {
   "cell_type": "code",
   "execution_count": 121,
   "metadata": {
    "collapsed": false
   },
   "outputs": [
    {
     "data": {
      "text/html": [
       "<div>\n",
       "<table border=\"1\" class=\"dataframe\">\n",
       "  <thead>\n",
       "    <tr style=\"text-align: right;\">\n",
       "      <th></th>\n",
       "      <th>artifactNumber</th>\n",
       "      <th>ObjectName</th>\n",
       "      <th>GeneralDescription</th>\n",
       "      <th>model</th>\n",
       "      <th>SerialNumber</th>\n",
       "      <th>Manufacturer</th>\n",
       "      <th>ManuCountry</th>\n",
       "      <th>ManuProvince</th>\n",
       "      <th>ManuCity</th>\n",
       "      <th>BeginDate</th>\n",
       "      <th>...</th>\n",
       "      <th>material</th>\n",
       "      <th>Length</th>\n",
       "      <th>Width</th>\n",
       "      <th>Height</th>\n",
       "      <th>Thickness</th>\n",
       "      <th>Weight</th>\n",
       "      <th>Diameter</th>\n",
       "      <th>image</th>\n",
       "      <th>thumbnail</th>\n",
       "      <th>Unnamed: 36</th>\n",
       "    </tr>\n",
       "  </thead>\n",
       "  <tbody>\n",
       "    <tr>\n",
       "      <th>66768</th>\n",
       "      <td>1994.0623.001</td>\n",
       "      <td>Print</td>\n",
       "      <td>paper print; glass; aluminum frame; steel conn...</td>\n",
       "      <td>Sugar's Blues</td>\n",
       "      <td>11/25 AP</td>\n",
       "      <td>NaN</td>\n",
       "      <td>Unknown</td>\n",
       "      <td>NaN</td>\n",
       "      <td>NaN</td>\n",
       "      <td>1994</td>\n",
       "      <td>...</td>\n",
       "      <td>paper-&gt;;glass-&gt;;metal-&gt;aluminum;metal-&gt;steel</td>\n",
       "      <td>61.5 cm</td>\n",
       "      <td>49.5 cm</td>\n",
       "      <td></td>\n",
       "      <td>2.2 kg</td>\n",
       "      <td></td>\n",
       "      <td>NaN</td>\n",
       "      <td>http://source.techno-science.ca/artifacts-arte...</td>\n",
       "      <td>http://source.techno-science.ca/artifacts-arte...</td>\n",
       "      <td>NaN</td>\n",
       "    </tr>\n",
       "  </tbody>\n",
       "</table>\n",
       "<p>1 rows × 37 columns</p>\n",
       "</div>"
      ],
      "text/plain": [
       "      artifactNumber ObjectName  \\\n",
       "66768  1994.0623.001      Print   \n",
       "\n",
       "                                      GeneralDescription          model  \\\n",
       "66768  paper print; glass; aluminum frame; steel conn...  Sugar's Blues   \n",
       "\n",
       "      SerialNumber Manufacturer ManuCountry ManuProvince ManuCity BeginDate  \\\n",
       "66768     11/25 AP          NaN     Unknown          NaN      NaN      1994   \n",
       "\n",
       "          ...                                          material   Length  \\\n",
       "66768     ...      paper->;glass->;metal->aluminum;metal->steel  61.5 cm   \n",
       "\n",
       "         Width  Height Thickness Weight Diameter  \\\n",
       "66768  49.5 cm            2.2 kg             NaN   \n",
       "\n",
       "                                                   image  \\\n",
       "66768  http://source.techno-science.ca/artifacts-arte...   \n",
       "\n",
       "                                               thumbnail Unnamed: 36  \n",
       "66768  http://source.techno-science.ca/artifacts-arte...         NaN  \n",
       "\n",
       "[1 rows x 37 columns]"
      ]
     },
     "execution_count": 121,
     "metadata": {},
     "output_type": "execute_result"
    }
   ],
   "source": [
    "df[df.Thickness.str.contains('kg',case=False)]\n",
    "############# Move Thickness where 'kg' to Weight ######"
   ]
  },
  {
   "cell_type": "code",
   "execution_count": 193,
   "metadata": {
    "collapsed": false
   },
   "outputs": [
    {
     "data": {
      "text/html": [
       "<div>\n",
       "<table border=\"1\" class=\"dataframe\">\n",
       "  <thead>\n",
       "    <tr style=\"text-align: right;\">\n",
       "      <th></th>\n",
       "      <th>artifactNumber</th>\n",
       "      <th>ObjectName</th>\n",
       "      <th>GeneralDescription</th>\n",
       "      <th>model</th>\n",
       "      <th>SerialNumber</th>\n",
       "      <th>Manufacturer</th>\n",
       "      <th>ManuCountry</th>\n",
       "      <th>ManuProvince</th>\n",
       "      <th>ManuCity</th>\n",
       "      <th>BeginDate</th>\n",
       "      <th>...</th>\n",
       "      <th>material</th>\n",
       "      <th>Length</th>\n",
       "      <th>Width</th>\n",
       "      <th>Height</th>\n",
       "      <th>Thickness</th>\n",
       "      <th>Weight</th>\n",
       "      <th>Diameter</th>\n",
       "      <th>image</th>\n",
       "      <th>thumbnail</th>\n",
       "      <th>Unnamed: 36</th>\n",
       "    </tr>\n",
       "  </thead>\n",
       "  <tbody>\n",
       "    <tr>\n",
       "      <th>1933</th>\n",
       "      <td>1966.0971.001</td>\n",
       "      <td>Photograph</td>\n",
       "      <td>photograph paper; wood frame; glass; paper &amp; c...</td>\n",
       "      <td>NaN</td>\n",
       "      <td>NaN</td>\n",
       "      <td>JARMAN, FRANK LTD.</td>\n",
       "      <td>Canada</td>\n",
       "      <td>Ontario</td>\n",
       "      <td>Ottawa</td>\n",
       "      <td>1941</td>\n",
       "      <td>...</td>\n",
       "      <td>paper-&gt;cardboard;wood-&gt;;glass-&gt;;metal-&gt;steel</td>\n",
       "      <td>49.8 cm</td>\n",
       "      <td>38.8 cm</td>\n",
       "      <td></td>\n",
       "      <td></td>\n",
       "      <td>1.9 cm</td>\n",
       "      <td>NaN</td>\n",
       "      <td>http://source.techno-science.ca/artifacts-arte...</td>\n",
       "      <td>http://source.techno-science.ca/artifacts-arte...</td>\n",
       "      <td>NaN</td>\n",
       "    </tr>\n",
       "    <tr>\n",
       "      <th>1940</th>\n",
       "      <td>1966.0978.001</td>\n",
       "      <td>Photograph</td>\n",
       "      <td>photograph paper; glass; plastic frame; steel ...</td>\n",
       "      <td>NaN</td>\n",
       "      <td>NaN</td>\n",
       "      <td>Royal Canadian Air Force</td>\n",
       "      <td>Canada</td>\n",
       "      <td>Ontario</td>\n",
       "      <td>Ottawa</td>\n",
       "      <td>1927</td>\n",
       "      <td>...</td>\n",
       "      <td>paper-&gt;;glass-&gt;;synthetic-&gt;plastic;metal-&gt;steel</td>\n",
       "      <td>45.3 cm</td>\n",
       "      <td>40.0 cm</td>\n",
       "      <td></td>\n",
       "      <td></td>\n",
       "      <td>2.3 cm</td>\n",
       "      <td>NaN</td>\n",
       "      <td>http://source.techno-science.ca/artifacts-arte...</td>\n",
       "      <td>http://source.techno-science.ca/artifacts-arte...</td>\n",
       "      <td>NaN</td>\n",
       "    </tr>\n",
       "    <tr>\n",
       "      <th>38417</th>\n",
       "      <td>1984.1346.002</td>\n",
       "      <td>Case, map</td>\n",
       "      <td>leather; fabric threat stitching; button - uni...</td>\n",
       "      <td>NaN</td>\n",
       "      <td>NaN</td>\n",
       "      <td>Unknown</td>\n",
       "      <td>Unknown</td>\n",
       "      <td>NaN</td>\n",
       "      <td>NaN</td>\n",
       "      <td>1917</td>\n",
       "      <td>...</td>\n",
       "      <td>skin-&gt;leather;fibre</td>\n",
       "      <td>19.5 cm</td>\n",
       "      <td></td>\n",
       "      <td></td>\n",
       "      <td>1.2 cm</td>\n",
       "      <td>13.3 cm</td>\n",
       "      <td>NaN</td>\n",
       "      <td>http://source.techno-science.ca/artifacts-arte...</td>\n",
       "      <td>http://source.techno-science.ca/artifacts-arte...</td>\n",
       "      <td>http://source.techno-science.ca/artifacts-arte...</td>\n",
       "    </tr>\n",
       "    <tr>\n",
       "      <th>53534</th>\n",
       "      <td>1989.0488.001</td>\n",
       "      <td>Calculator, air navigation</td>\n",
       "      <td>plastic; metal swivel at centre - possibly alu...</td>\n",
       "      <td>B-24D</td>\n",
       "      <td>NaN</td>\n",
       "      <td>Consolidated Aircraft Corp.</td>\n",
       "      <td>United States of America</td>\n",
       "      <td>California</td>\n",
       "      <td>San diego</td>\n",
       "      <td>1941</td>\n",
       "      <td>...</td>\n",
       "      <td>synthetic-&gt;plastic;metal-&gt;aluminum - possible</td>\n",
       "      <td>28.0 cm</td>\n",
       "      <td>25.2 cm</td>\n",
       "      <td></td>\n",
       "      <td></td>\n",
       "      <td>1.0 cm</td>\n",
       "      <td>NaN</td>\n",
       "      <td>http://source.techno-science.ca/artifacts-arte...</td>\n",
       "      <td>http://source.techno-science.ca/artifacts-arte...</td>\n",
       "      <td>NaN</td>\n",
       "    </tr>\n",
       "    <tr>\n",
       "      <th>57845</th>\n",
       "      <td>1991.0773.001</td>\n",
       "      <td>Calculator, air navigation</td>\n",
       "      <td>plastic; metal swivel at centre - possibly alu...</td>\n",
       "      <td>28-5MC</td>\n",
       "      <td>NaN</td>\n",
       "      <td>Consolidated Vultee Aircraft Corp.</td>\n",
       "      <td>United States of America</td>\n",
       "      <td>California</td>\n",
       "      <td>San diego</td>\n",
       "      <td>1953</td>\n",
       "      <td>...</td>\n",
       "      <td>synthetic-&gt;plastic;metal-&gt;aluminum - possible</td>\n",
       "      <td>28.6 cm</td>\n",
       "      <td>25.5 cm</td>\n",
       "      <td></td>\n",
       "      <td></td>\n",
       "      <td>1.0 cm</td>\n",
       "      <td>NaN</td>\n",
       "      <td>http://source.techno-science.ca/artifacts-arte...</td>\n",
       "      <td>http://source.techno-science.ca/artifacts-arte...</td>\n",
       "      <td>NaN</td>\n",
       "    </tr>\n",
       "    <tr>\n",
       "      <th>57864</th>\n",
       "      <td>1991.0788.001</td>\n",
       "      <td>Print</td>\n",
       "      <td>paper; glass; aluminum frame &amp; wire; steel con...</td>\n",
       "      <td>Augsberg Raid</td>\n",
       "      <td>130/500</td>\n",
       "      <td>NaN</td>\n",
       "      <td>England</td>\n",
       "      <td>NaN</td>\n",
       "      <td>Lincolnshire</td>\n",
       "      <td>1986</td>\n",
       "      <td>...</td>\n",
       "      <td>paper-&gt;;glass-&gt;;metal-&gt;aluminum;metal-&gt;steel</td>\n",
       "      <td>71.5 cm</td>\n",
       "      <td></td>\n",
       "      <td></td>\n",
       "      <td>2.3 cm</td>\n",
       "      <td>55.7 cm</td>\n",
       "      <td>NaN</td>\n",
       "      <td>http://source.techno-science.ca/artifacts-arte...</td>\n",
       "      <td>http://source.techno-science.ca/artifacts-arte...</td>\n",
       "      <td>NaN</td>\n",
       "    </tr>\n",
       "    <tr>\n",
       "      <th>66771</th>\n",
       "      <td>1994.0626.001</td>\n",
       "      <td>Print</td>\n",
       "      <td>paper print mounted on wooden board; laminated...</td>\n",
       "      <td>Critical Approach</td>\n",
       "      <td>NaN</td>\n",
       "      <td>VINH, CHARLES</td>\n",
       "      <td>Canada</td>\n",
       "      <td>Québec</td>\n",
       "      <td>Montréal</td>\n",
       "      <td>1991</td>\n",
       "      <td>...</td>\n",
       "      <td>paper-&gt;;wood-&gt;;metal-&gt;steel</td>\n",
       "      <td>51.1 cm</td>\n",
       "      <td>41.0 cm</td>\n",
       "      <td></td>\n",
       "      <td></td>\n",
       "      <td>1.0 cm</td>\n",
       "      <td>NaN</td>\n",
       "      <td>http://source.techno-science.ca/artifacts-arte...</td>\n",
       "      <td>http://source.techno-science.ca/artifacts-arte...</td>\n",
       "      <td>NaN</td>\n",
       "    </tr>\n",
       "    <tr>\n",
       "      <th>74964</th>\n",
       "      <td>1996.0625.002</td>\n",
       "      <td>Stamp, postage</td>\n",
       "      <td>PAPER STAMPS/ CARDBOARD ENVELOPES &amp; FOLDERS/ P...</td>\n",
       "      <td>HISTORIC LAND VEHICLES</td>\n",
       "      <td>NaN</td>\n",
       "      <td>Unknown</td>\n",
       "      <td>Unknown</td>\n",
       "      <td>NaN</td>\n",
       "      <td>NaN</td>\n",
       "      <td>NaN</td>\n",
       "      <td>...</td>\n",
       "      <td>paper-&gt;cardboard;synthetic</td>\n",
       "      <td>19.4 cm</td>\n",
       "      <td></td>\n",
       "      <td></td>\n",
       "      <td>1.2 cm</td>\n",
       "      <td>11.8 cm</td>\n",
       "      <td>NaN</td>\n",
       "      <td>http://source.techno-science.ca/artifacts-arte...</td>\n",
       "      <td>http://source.techno-science.ca/artifacts-arte...</td>\n",
       "      <td>NaN</td>\n",
       "    </tr>\n",
       "    <tr>\n",
       "      <th>76201</th>\n",
       "      <td>1997.0162.003</td>\n",
       "      <td>Standard, mass</td>\n",
       "      <td>BOX: WOOD WITH METAL HARDWARE AND FELT PADDING...</td>\n",
       "      <td>NaN</td>\n",
       "      <td>NaN</td>\n",
       "      <td>OERTLING, L.</td>\n",
       "      <td>England</td>\n",
       "      <td>NaN</td>\n",
       "      <td>London</td>\n",
       "      <td>1912</td>\n",
       "      <td>...</td>\n",
       "      <td>wood-&gt;;metal-&gt;brass;fibre-&gt;felt</td>\n",
       "      <td>43.8 cm</td>\n",
       "      <td></td>\n",
       "      <td>21.3 cm</td>\n",
       "      <td></td>\n",
       "      <td>23.0 cm</td>\n",
       "      <td>NaN</td>\n",
       "      <td>http://source.techno-science.ca/artifacts-arte...</td>\n",
       "      <td>http://source.techno-science.ca/artifacts-arte...</td>\n",
       "      <td>NaN</td>\n",
       "    </tr>\n",
       "    <tr>\n",
       "      <th>87612</th>\n",
       "      <td>2002.0430.001</td>\n",
       "      <td>Drawing</td>\n",
       "      <td>paper; glass; aluminum frame &amp; plate; steel ha...</td>\n",
       "      <td>Douglas DC-9</td>\n",
       "      <td>NaN</td>\n",
       "      <td>NaN</td>\n",
       "      <td>NaN</td>\n",
       "      <td>NaN</td>\n",
       "      <td>NaN</td>\n",
       "      <td>2002</td>\n",
       "      <td>...</td>\n",
       "      <td>paper-&gt;cardboard;glass-&gt;;metal-&gt;aluminum;metal...</td>\n",
       "      <td>62.0 cm</td>\n",
       "      <td></td>\n",
       "      <td></td>\n",
       "      <td>2.3 cm</td>\n",
       "      <td>46.5 cm</td>\n",
       "      <td>NaN</td>\n",
       "      <td>http://source.techno-science.ca/artifacts-arte...</td>\n",
       "      <td>http://source.techno-science.ca/artifacts-arte...</td>\n",
       "      <td>NaN</td>\n",
       "    </tr>\n",
       "    <tr>\n",
       "      <th>91348</th>\n",
       "      <td>2004.0013.005</td>\n",
       "      <td>NaN</td>\n",
       "      <td>LEATHER CASE HAS METAL CLOSURES; CORDOROY LINING</td>\n",
       "      <td>NaN</td>\n",
       "      <td>NaN</td>\n",
       "      <td>NaN</td>\n",
       "      <td>NaN</td>\n",
       "      <td>NaN</td>\n",
       "      <td>NaN</td>\n",
       "      <td>NaN</td>\n",
       "      <td>...</td>\n",
       "      <td>skin-&gt;leather;metal-&gt;;fibre-&gt;cotton</td>\n",
       "      <td>14.7 cm</td>\n",
       "      <td></td>\n",
       "      <td>6.4 cm</td>\n",
       "      <td></td>\n",
       "      <td>4.2 cm</td>\n",
       "      <td>NaN</td>\n",
       "      <td>http://source.techno-science.ca/artifacts-arte...</td>\n",
       "      <td>http://source.techno-science.ca/artifacts-arte...</td>\n",
       "      <td>NaN</td>\n",
       "    </tr>\n",
       "    <tr>\n",
       "      <th>91349</th>\n",
       "      <td>2004.0013.006</td>\n",
       "      <td>NaN</td>\n",
       "      <td>LEATHER CASE HAS METAL CLOSURES; CORDOROY LINING</td>\n",
       "      <td>NaN</td>\n",
       "      <td>NaN</td>\n",
       "      <td>NaN</td>\n",
       "      <td>NaN</td>\n",
       "      <td>NaN</td>\n",
       "      <td>NaN</td>\n",
       "      <td>NaN</td>\n",
       "      <td>...</td>\n",
       "      <td>skin-&gt;leather;metal-&gt;;fibre-&gt;cotton</td>\n",
       "      <td>14.7 cm</td>\n",
       "      <td></td>\n",
       "      <td>16.5 cm</td>\n",
       "      <td></td>\n",
       "      <td>8.5 cm</td>\n",
       "      <td>NaN</td>\n",
       "      <td>http://source.techno-science.ca/artifacts-arte...</td>\n",
       "      <td>http://source.techno-science.ca/artifacts-arte...</td>\n",
       "      <td>NaN</td>\n",
       "    </tr>\n",
       "    <tr>\n",
       "      <th>91558</th>\n",
       "      <td>2004.0129.001</td>\n",
       "      <td>Painting</td>\n",
       "      <td>paper; glass; cloth matte; wood frame; cardboa...</td>\n",
       "      <td>NaN</td>\n",
       "      <td>NaN</td>\n",
       "      <td>NaN</td>\n",
       "      <td>NaN</td>\n",
       "      <td>NaN</td>\n",
       "      <td>NaN</td>\n",
       "      <td>1980</td>\n",
       "      <td>...</td>\n",
       "      <td>paper-&gt;cardboard;glass-&gt;;fibre-&gt;;wood-&gt;;metal-...</td>\n",
       "      <td>44.0 cm</td>\n",
       "      <td>40.0 cm</td>\n",
       "      <td></td>\n",
       "      <td></td>\n",
       "      <td>2.5 cm</td>\n",
       "      <td>NaN</td>\n",
       "      <td>http://source.techno-science.ca/artifacts-arte...</td>\n",
       "      <td>http://source.techno-science.ca/artifacts-arte...</td>\n",
       "      <td>NaN</td>\n",
       "    </tr>\n",
       "    <tr>\n",
       "      <th>91884</th>\n",
       "      <td>2004.0305.015</td>\n",
       "      <td>Box</td>\n",
       "      <td>paper</td>\n",
       "      <td>NaN</td>\n",
       "      <td>NaN</td>\n",
       "      <td>Metro Packaging Co. Ltd.</td>\n",
       "      <td>Canada</td>\n",
       "      <td>Ontario</td>\n",
       "      <td>Toronto</td>\n",
       "      <td>2002</td>\n",
       "      <td>...</td>\n",
       "      <td>paper-&gt;cardboard</td>\n",
       "      <td>49.0 cm</td>\n",
       "      <td></td>\n",
       "      <td>54.0 cm</td>\n",
       "      <td></td>\n",
       "      <td>37.0 cm</td>\n",
       "      <td>NaN</td>\n",
       "      <td>http://source.techno-science.ca/artifacts-arte...</td>\n",
       "      <td>http://source.techno-science.ca/artifacts-arte...</td>\n",
       "      <td>NaN</td>\n",
       "    </tr>\n",
       "  </tbody>\n",
       "</table>\n",
       "<p>14 rows × 37 columns</p>\n",
       "</div>"
      ],
      "text/plain": [
       "      artifactNumber                  ObjectName  \\\n",
       "1933   1966.0971.001                  Photograph   \n",
       "1940   1966.0978.001                  Photograph   \n",
       "38417  1984.1346.002                   Case, map   \n",
       "53534  1989.0488.001  Calculator, air navigation   \n",
       "57845  1991.0773.001  Calculator, air navigation   \n",
       "57864  1991.0788.001                       Print   \n",
       "66771  1994.0626.001                       Print   \n",
       "74964  1996.0625.002              Stamp, postage   \n",
       "76201  1997.0162.003              Standard, mass   \n",
       "87612  2002.0430.001                     Drawing   \n",
       "91348  2004.0013.005                         NaN   \n",
       "91349  2004.0013.006                         NaN   \n",
       "91558  2004.0129.001                    Painting   \n",
       "91884  2004.0305.015                         Box   \n",
       "\n",
       "                                      GeneralDescription  \\\n",
       "1933   photograph paper; wood frame; glass; paper & c...   \n",
       "1940   photograph paper; glass; plastic frame; steel ...   \n",
       "38417  leather; fabric threat stitching; button - uni...   \n",
       "53534  plastic; metal swivel at centre - possibly alu...   \n",
       "57845  plastic; metal swivel at centre - possibly alu...   \n",
       "57864  paper; glass; aluminum frame & wire; steel con...   \n",
       "66771  paper print mounted on wooden board; laminated...   \n",
       "74964  PAPER STAMPS/ CARDBOARD ENVELOPES & FOLDERS/ P...   \n",
       "76201  BOX: WOOD WITH METAL HARDWARE AND FELT PADDING...   \n",
       "87612  paper; glass; aluminum frame & plate; steel ha...   \n",
       "91348   LEATHER CASE HAS METAL CLOSURES; CORDOROY LINING   \n",
       "91349   LEATHER CASE HAS METAL CLOSURES; CORDOROY LINING   \n",
       "91558  paper; glass; cloth matte; wood frame; cardboa...   \n",
       "91884                                              paper   \n",
       "\n",
       "                        model SerialNumber  \\\n",
       "1933                      NaN          NaN   \n",
       "1940                      NaN          NaN   \n",
       "38417                     NaN          NaN   \n",
       "53534                   B-24D          NaN   \n",
       "57845                  28-5MC          NaN   \n",
       "57864           Augsberg Raid      130/500   \n",
       "66771       Critical Approach          NaN   \n",
       "74964  HISTORIC LAND VEHICLES          NaN   \n",
       "76201                     NaN          NaN   \n",
       "87612            Douglas DC-9          NaN   \n",
       "91348                     NaN          NaN   \n",
       "91349                     NaN          NaN   \n",
       "91558                     NaN          NaN   \n",
       "91884                     NaN          NaN   \n",
       "\n",
       "                             Manufacturer               ManuCountry  \\\n",
       "1933                   JARMAN, FRANK LTD.                    Canada   \n",
       "1940             Royal Canadian Air Force                    Canada   \n",
       "38417                             Unknown                   Unknown   \n",
       "53534         Consolidated Aircraft Corp.  United States of America   \n",
       "57845  Consolidated Vultee Aircraft Corp.  United States of America   \n",
       "57864                                 NaN                   England   \n",
       "66771                       VINH, CHARLES                    Canada   \n",
       "74964                             Unknown                   Unknown   \n",
       "76201                        OERTLING, L.                   England   \n",
       "87612                                 NaN                       NaN   \n",
       "91348                                 NaN                       NaN   \n",
       "91349                                 NaN                       NaN   \n",
       "91558                                 NaN                       NaN   \n",
       "91884            Metro Packaging Co. Ltd.                    Canada   \n",
       "\n",
       "      ManuProvince      ManuCity BeginDate  \\\n",
       "1933       Ontario        Ottawa      1941   \n",
       "1940       Ontario        Ottawa      1927   \n",
       "38417          NaN           NaN      1917   \n",
       "53534   California     San diego      1941   \n",
       "57845   California     San diego      1953   \n",
       "57864          NaN  Lincolnshire      1986   \n",
       "66771       Québec      Montréal      1991   \n",
       "74964          NaN           NaN       NaN   \n",
       "76201          NaN        London      1912   \n",
       "87612          NaN           NaN      2002   \n",
       "91348          NaN           NaN       NaN   \n",
       "91349          NaN           NaN       NaN   \n",
       "91558          NaN           NaN      1980   \n",
       "91884      Ontario       Toronto      2002   \n",
       "\n",
       "                             ...                          \\\n",
       "1933                         ...                           \n",
       "1940                         ...                           \n",
       "38417                        ...                           \n",
       "53534                        ...                           \n",
       "57845                        ...                           \n",
       "57864                        ...                           \n",
       "66771                        ...                           \n",
       "74964                        ...                           \n",
       "76201                        ...                           \n",
       "87612                        ...                           \n",
       "91348                        ...                           \n",
       "91349                        ...                           \n",
       "91558                        ...                           \n",
       "91884                        ...                           \n",
       "\n",
       "                                                material   Length    Width  \\\n",
       "1933        paper->cardboard;wood->;glass->;metal->steel  49.8 cm  38.8 cm   \n",
       "1940     paper->;glass->;synthetic->plastic;metal->steel  45.3 cm  40.0 cm   \n",
       "38417                                skin->leather;fibre  19.5 cm            \n",
       "53534      synthetic->plastic;metal->aluminum - possible  28.0 cm  25.2 cm   \n",
       "57845      synthetic->plastic;metal->aluminum - possible  28.6 cm  25.5 cm   \n",
       "57864       paper->;glass->;metal->aluminum;metal->steel  71.5 cm            \n",
       "66771                        paper->;wood->;metal->steel  51.1 cm  41.0 cm   \n",
       "74964                         paper->cardboard;synthetic  19.4 cm            \n",
       "76201                    wood->;metal->brass;fibre->felt  43.8 cm            \n",
       "87612  paper->cardboard;glass->;metal->aluminum;metal...  62.0 cm            \n",
       "91348                skin->leather;metal->;fibre->cotton  14.7 cm            \n",
       "91349                skin->leather;metal->;fibre->cotton  14.7 cm            \n",
       "91558  paper->cardboard;glass->;fibre->;wood->;metal-...  44.0 cm  40.0 cm   \n",
       "91884                                   paper->cardboard  49.0 cm            \n",
       "\n",
       "        Height Thickness   Weight Diameter  \\\n",
       "1933                       1.9 cm      NaN   \n",
       "1940                       2.3 cm      NaN   \n",
       "38417             1.2 cm  13.3 cm      NaN   \n",
       "53534                      1.0 cm      NaN   \n",
       "57845                      1.0 cm      NaN   \n",
       "57864             2.3 cm  55.7 cm      NaN   \n",
       "66771                      1.0 cm      NaN   \n",
       "74964             1.2 cm  11.8 cm      NaN   \n",
       "76201  21.3 cm            23.0 cm      NaN   \n",
       "87612             2.3 cm  46.5 cm      NaN   \n",
       "91348   6.4 cm             4.2 cm      NaN   \n",
       "91349  16.5 cm             8.5 cm      NaN   \n",
       "91558                      2.5 cm      NaN   \n",
       "91884  54.0 cm            37.0 cm      NaN   \n",
       "\n",
       "                                                   image  \\\n",
       "1933   http://source.techno-science.ca/artifacts-arte...   \n",
       "1940   http://source.techno-science.ca/artifacts-arte...   \n",
       "38417  http://source.techno-science.ca/artifacts-arte...   \n",
       "53534  http://source.techno-science.ca/artifacts-arte...   \n",
       "57845  http://source.techno-science.ca/artifacts-arte...   \n",
       "57864  http://source.techno-science.ca/artifacts-arte...   \n",
       "66771  http://source.techno-science.ca/artifacts-arte...   \n",
       "74964  http://source.techno-science.ca/artifacts-arte...   \n",
       "76201  http://source.techno-science.ca/artifacts-arte...   \n",
       "87612  http://source.techno-science.ca/artifacts-arte...   \n",
       "91348  http://source.techno-science.ca/artifacts-arte...   \n",
       "91349  http://source.techno-science.ca/artifacts-arte...   \n",
       "91558  http://source.techno-science.ca/artifacts-arte...   \n",
       "91884  http://source.techno-science.ca/artifacts-arte...   \n",
       "\n",
       "                                               thumbnail  \\\n",
       "1933   http://source.techno-science.ca/artifacts-arte...   \n",
       "1940   http://source.techno-science.ca/artifacts-arte...   \n",
       "38417  http://source.techno-science.ca/artifacts-arte...   \n",
       "53534  http://source.techno-science.ca/artifacts-arte...   \n",
       "57845  http://source.techno-science.ca/artifacts-arte...   \n",
       "57864  http://source.techno-science.ca/artifacts-arte...   \n",
       "66771  http://source.techno-science.ca/artifacts-arte...   \n",
       "74964  http://source.techno-science.ca/artifacts-arte...   \n",
       "76201  http://source.techno-science.ca/artifacts-arte...   \n",
       "87612  http://source.techno-science.ca/artifacts-arte...   \n",
       "91348  http://source.techno-science.ca/artifacts-arte...   \n",
       "91349  http://source.techno-science.ca/artifacts-arte...   \n",
       "91558  http://source.techno-science.ca/artifacts-arte...   \n",
       "91884  http://source.techno-science.ca/artifacts-arte...   \n",
       "\n",
       "                                             Unnamed: 36  \n",
       "1933                                                 NaN  \n",
       "1940                                                 NaN  \n",
       "38417  http://source.techno-science.ca/artifacts-arte...  \n",
       "53534                                                NaN  \n",
       "57845                                                NaN  \n",
       "57864                                                NaN  \n",
       "66771                                                NaN  \n",
       "74964                                                NaN  \n",
       "76201                                                NaN  \n",
       "87612                                                NaN  \n",
       "91348                                                NaN  \n",
       "91349                                                NaN  \n",
       "91558                                                NaN  \n",
       "91884                                                NaN  \n",
       "\n",
       "[14 rows x 37 columns]"
      ]
     },
     "execution_count": 193,
     "metadata": {},
     "output_type": "execute_result"
    }
   ],
   "source": [
    "df[df.Weight.str.contains('cm',case=False)]\n",
    "############# Move Weight where 'cm' to Diameter ######"
   ]
  },
  {
   "cell_type": "code",
   "execution_count": null,
   "metadata": {
    "collapsed": false
   },
   "outputs": [],
   "source": [
    "\n"
   ]
  },
  {
   "cell_type": "code",
   "execution_count": null,
   "metadata": {
    "collapsed": false
   },
   "outputs": [],
   "source": []
  },
  {
   "cell_type": "code",
   "execution_count": 442,
   "metadata": {
    "collapsed": true
   },
   "outputs": [],
   "source": [
    "df2 = df.copy()"
   ]
  },
  {
   "cell_type": "code",
   "execution_count": 418,
   "metadata": {
    "collapsed": true
   },
   "outputs": [],
   "source": [
    "height_correct_form = lambda x:x['Height'] if 'kg' in x['Height'].lower() else x['Weight']"
   ]
  },
  {
   "cell_type": "code",
   "execution_count": 419,
   "metadata": {
    "collapsed": true
   },
   "outputs": [],
   "source": [
    "df2.Weight = df2.apply(height_correct_form,axis=1)"
   ]
  },
  {
   "cell_type": "code",
   "execution_count": 420,
   "metadata": {
    "collapsed": false
   },
   "outputs": [],
   "source": [
    "df2.Height = df2.Height.replace(to_replace=r'\\w+\\.+\\w+\\s+kg$',value='',regex=True)"
   ]
  },
  {
   "cell_type": "code",
   "execution_count": 421,
   "metadata": {
    "collapsed": false
   },
   "outputs": [
    {
     "data": {
      "text/html": [
       "<div>\n",
       "<table border=\"1\" class=\"dataframe\">\n",
       "  <thead>\n",
       "    <tr style=\"text-align: right;\">\n",
       "      <th></th>\n",
       "      <th>artifactNumber</th>\n",
       "      <th>ObjectName</th>\n",
       "      <th>GeneralDescription</th>\n",
       "      <th>model</th>\n",
       "      <th>SerialNumber</th>\n",
       "      <th>Manufacturer</th>\n",
       "      <th>ManuCountry</th>\n",
       "      <th>ManuProvince</th>\n",
       "      <th>ManuCity</th>\n",
       "      <th>BeginDate</th>\n",
       "      <th>...</th>\n",
       "      <th>material</th>\n",
       "      <th>Length</th>\n",
       "      <th>Width</th>\n",
       "      <th>Height</th>\n",
       "      <th>Thickness</th>\n",
       "      <th>Weight</th>\n",
       "      <th>Diameter</th>\n",
       "      <th>image</th>\n",
       "      <th>thumbnail</th>\n",
       "      <th>Unnamed: 36</th>\n",
       "    </tr>\n",
       "  </thead>\n",
       "  <tbody>\n",
       "    <tr>\n",
       "      <th>3213</th>\n",
       "      <td>1967.0901.017</td>\n",
       "      <td>Valve, elevator control</td>\n",
       "      <td>predom. steel &amp; aluminum/ pt.8 glass bottle wi...</td>\n",
       "      <td>NaN</td>\n",
       "      <td>NaN</td>\n",
       "      <td>Minneapolis-Honeywell Regulator Co.</td>\n",
       "      <td>United States of America</td>\n",
       "      <td>NaN</td>\n",
       "      <td>NaN</td>\n",
       "      <td>1959</td>\n",
       "      <td>...</td>\n",
       "      <td>metal-&gt;steel;metal-&gt;aluminum;glass-&gt;;synthetic...</td>\n",
       "      <td>220.2 cm</td>\n",
       "      <td>13.0 cm</td>\n",
       "      <td></td>\n",
       "      <td></td>\n",
       "      <td>7.5 kg</td>\n",
       "      <td></td>\n",
       "      <td>http://source.techno-science.ca/artifacts-arte...</td>\n",
       "      <td>http://source.techno-science.ca/artifacts-arte...</td>\n",
       "      <td>NaN</td>\n",
       "    </tr>\n",
       "  </tbody>\n",
       "</table>\n",
       "<p>1 rows × 37 columns</p>\n",
       "</div>"
      ],
      "text/plain": [
       "     artifactNumber               ObjectName  \\\n",
       "3213  1967.0901.017  Valve, elevator control   \n",
       "\n",
       "                                     GeneralDescription model SerialNumber  \\\n",
       "3213  predom. steel & aluminum/ pt.8 glass bottle wi...   NaN          NaN   \n",
       "\n",
       "                             Manufacturer               ManuCountry  \\\n",
       "3213  Minneapolis-Honeywell Regulator Co.  United States of America   \n",
       "\n",
       "     ManuProvince ManuCity BeginDate     ...      \\\n",
       "3213          NaN      NaN      1959     ...       \n",
       "\n",
       "                                               material    Length    Width  \\\n",
       "3213  metal->steel;metal->aluminum;glass->;synthetic...  220.2 cm  13.0 cm   \n",
       "\n",
       "      Height Thickness  Weight Diameter  \\\n",
       "3213                    7.5 kg            \n",
       "\n",
       "                                                  image  \\\n",
       "3213  http://source.techno-science.ca/artifacts-arte...   \n",
       "\n",
       "                                              thumbnail Unnamed: 36  \n",
       "3213  http://source.techno-science.ca/artifacts-arte...         NaN  \n",
       "\n",
       "[1 rows x 37 columns]"
      ]
     },
     "execution_count": 421,
     "metadata": {},
     "output_type": "execute_result"
    }
   ],
   "source": [
    "df2[df2.artifactNumber=='1967.0901.017']"
   ]
  },
  {
   "cell_type": "markdown",
   "metadata": {},
   "source": [
    "### Move Thickness where 'kg' to Weight"
   ]
  },
  {
   "cell_type": "code",
   "execution_count": 422,
   "metadata": {
    "collapsed": false
   },
   "outputs": [
    {
     "data": {
      "text/html": [
       "<div>\n",
       "<table border=\"1\" class=\"dataframe\">\n",
       "  <thead>\n",
       "    <tr style=\"text-align: right;\">\n",
       "      <th></th>\n",
       "      <th>artifactNumber</th>\n",
       "      <th>ObjectName</th>\n",
       "      <th>GeneralDescription</th>\n",
       "      <th>model</th>\n",
       "      <th>SerialNumber</th>\n",
       "      <th>Manufacturer</th>\n",
       "      <th>ManuCountry</th>\n",
       "      <th>ManuProvince</th>\n",
       "      <th>ManuCity</th>\n",
       "      <th>BeginDate</th>\n",
       "      <th>...</th>\n",
       "      <th>material</th>\n",
       "      <th>Length</th>\n",
       "      <th>Width</th>\n",
       "      <th>Height</th>\n",
       "      <th>Thickness</th>\n",
       "      <th>Weight</th>\n",
       "      <th>Diameter</th>\n",
       "      <th>image</th>\n",
       "      <th>thumbnail</th>\n",
       "      <th>Unnamed: 36</th>\n",
       "    </tr>\n",
       "  </thead>\n",
       "  <tbody>\n",
       "    <tr>\n",
       "      <th>66768</th>\n",
       "      <td>1994.0623.001</td>\n",
       "      <td>Print</td>\n",
       "      <td>paper print; glass; aluminum frame; steel conn...</td>\n",
       "      <td>Sugar's Blues</td>\n",
       "      <td>11/25 AP</td>\n",
       "      <td>NaN</td>\n",
       "      <td>Unknown</td>\n",
       "      <td>NaN</td>\n",
       "      <td>NaN</td>\n",
       "      <td>1994</td>\n",
       "      <td>...</td>\n",
       "      <td>paper-&gt;;glass-&gt;;metal-&gt;aluminum;metal-&gt;steel</td>\n",
       "      <td>61.5 cm</td>\n",
       "      <td>49.5 cm</td>\n",
       "      <td></td>\n",
       "      <td>2.2 kg</td>\n",
       "      <td></td>\n",
       "      <td></td>\n",
       "      <td>http://source.techno-science.ca/artifacts-arte...</td>\n",
       "      <td>http://source.techno-science.ca/artifacts-arte...</td>\n",
       "      <td>NaN</td>\n",
       "    </tr>\n",
       "  </tbody>\n",
       "</table>\n",
       "<p>1 rows × 37 columns</p>\n",
       "</div>"
      ],
      "text/plain": [
       "      artifactNumber ObjectName  \\\n",
       "66768  1994.0623.001      Print   \n",
       "\n",
       "                                      GeneralDescription          model  \\\n",
       "66768  paper print; glass; aluminum frame; steel conn...  Sugar's Blues   \n",
       "\n",
       "      SerialNumber Manufacturer ManuCountry ManuProvince ManuCity BeginDate  \\\n",
       "66768     11/25 AP          NaN     Unknown          NaN      NaN      1994   \n",
       "\n",
       "          ...                                          material   Length  \\\n",
       "66768     ...      paper->;glass->;metal->aluminum;metal->steel  61.5 cm   \n",
       "\n",
       "         Width  Height Thickness Weight Diameter  \\\n",
       "66768  49.5 cm            2.2 kg                   \n",
       "\n",
       "                                                   image  \\\n",
       "66768  http://source.techno-science.ca/artifacts-arte...   \n",
       "\n",
       "                                               thumbnail Unnamed: 36  \n",
       "66768  http://source.techno-science.ca/artifacts-arte...         NaN  \n",
       "\n",
       "[1 rows x 37 columns]"
      ]
     },
     "execution_count": 422,
     "metadata": {},
     "output_type": "execute_result"
    }
   ],
   "source": [
    "df2[df2.Thickness.str.contains('kg',case=False)]"
   ]
  },
  {
   "cell_type": "code",
   "execution_count": 423,
   "metadata": {
    "collapsed": true
   },
   "outputs": [],
   "source": [
    "Thickness_correct_form = lambda x:x['Thickness'] if 'kg' in x['Thickness'].lower() else x['Weight']"
   ]
  },
  {
   "cell_type": "code",
   "execution_count": 424,
   "metadata": {
    "collapsed": true
   },
   "outputs": [],
   "source": [
    "df2.Weight = df2.apply(Thickness_correct_form,axis=1)\n",
    "df2.Thickness = df2.Thickness.replace(to_replace=r'\\w+\\.+\\w+\\s+kg$',value='',regex=True)"
   ]
  },
  {
   "cell_type": "code",
   "execution_count": 425,
   "metadata": {
    "collapsed": false
   },
   "outputs": [
    {
     "data": {
      "text/html": [
       "<div>\n",
       "<table border=\"1\" class=\"dataframe\">\n",
       "  <thead>\n",
       "    <tr style=\"text-align: right;\">\n",
       "      <th></th>\n",
       "      <th>artifactNumber</th>\n",
       "      <th>ObjectName</th>\n",
       "      <th>GeneralDescription</th>\n",
       "      <th>model</th>\n",
       "      <th>SerialNumber</th>\n",
       "      <th>Manufacturer</th>\n",
       "      <th>ManuCountry</th>\n",
       "      <th>ManuProvince</th>\n",
       "      <th>ManuCity</th>\n",
       "      <th>BeginDate</th>\n",
       "      <th>...</th>\n",
       "      <th>material</th>\n",
       "      <th>Length</th>\n",
       "      <th>Width</th>\n",
       "      <th>Height</th>\n",
       "      <th>Thickness</th>\n",
       "      <th>Weight</th>\n",
       "      <th>Diameter</th>\n",
       "      <th>image</th>\n",
       "      <th>thumbnail</th>\n",
       "      <th>Unnamed: 36</th>\n",
       "    </tr>\n",
       "  </thead>\n",
       "  <tbody>\n",
       "    <tr>\n",
       "      <th>66768</th>\n",
       "      <td>1994.0623.001</td>\n",
       "      <td>Print</td>\n",
       "      <td>paper print; glass; aluminum frame; steel conn...</td>\n",
       "      <td>Sugar's Blues</td>\n",
       "      <td>11/25 AP</td>\n",
       "      <td>NaN</td>\n",
       "      <td>Unknown</td>\n",
       "      <td>NaN</td>\n",
       "      <td>NaN</td>\n",
       "      <td>1994</td>\n",
       "      <td>...</td>\n",
       "      <td>paper-&gt;;glass-&gt;;metal-&gt;aluminum;metal-&gt;steel</td>\n",
       "      <td>61.5 cm</td>\n",
       "      <td>49.5 cm</td>\n",
       "      <td></td>\n",
       "      <td></td>\n",
       "      <td>2.2 kg</td>\n",
       "      <td></td>\n",
       "      <td>http://source.techno-science.ca/artifacts-arte...</td>\n",
       "      <td>http://source.techno-science.ca/artifacts-arte...</td>\n",
       "      <td>NaN</td>\n",
       "    </tr>\n",
       "  </tbody>\n",
       "</table>\n",
       "<p>1 rows × 37 columns</p>\n",
       "</div>"
      ],
      "text/plain": [
       "      artifactNumber ObjectName  \\\n",
       "66768  1994.0623.001      Print   \n",
       "\n",
       "                                      GeneralDescription          model  \\\n",
       "66768  paper print; glass; aluminum frame; steel conn...  Sugar's Blues   \n",
       "\n",
       "      SerialNumber Manufacturer ManuCountry ManuProvince ManuCity BeginDate  \\\n",
       "66768     11/25 AP          NaN     Unknown          NaN      NaN      1994   \n",
       "\n",
       "          ...                                          material   Length  \\\n",
       "66768     ...      paper->;glass->;metal->aluminum;metal->steel  61.5 cm   \n",
       "\n",
       "         Width  Height Thickness  Weight Diameter  \\\n",
       "66768  49.5 cm                    2.2 kg            \n",
       "\n",
       "                                                   image  \\\n",
       "66768  http://source.techno-science.ca/artifacts-arte...   \n",
       "\n",
       "                                               thumbnail Unnamed: 36  \n",
       "66768  http://source.techno-science.ca/artifacts-arte...         NaN  \n",
       "\n",
       "[1 rows x 37 columns]"
      ]
     },
     "execution_count": 425,
     "metadata": {},
     "output_type": "execute_result"
    }
   ],
   "source": [
    "df2[df2.artifactNumber=='1994.0623.001']"
   ]
  },
  {
   "cell_type": "markdown",
   "metadata": {},
   "source": [
    "## Move Weight where 'cm' to Diameter ######"
   ]
  },
  {
   "cell_type": "code",
   "execution_count": 426,
   "metadata": {
    "collapsed": false,
    "scrolled": true
   },
   "outputs": [
    {
     "data": {
      "text/plain": [
       "(14, 37)"
      ]
     },
     "execution_count": 426,
     "metadata": {},
     "output_type": "execute_result"
    }
   ],
   "source": [
    "df2[df2.Weight.str.contains('cm',case=False)].shape"
   ]
  },
  {
   "cell_type": "code",
   "execution_count": 427,
   "metadata": {
    "collapsed": true
   },
   "outputs": [],
   "source": [
    "Weight_correct_form = lambda x:x['Weight'] if 'cm' in x['Weight'].lower() else x['Diameter']"
   ]
  },
  {
   "cell_type": "code",
   "execution_count": 428,
   "metadata": {
    "collapsed": true
   },
   "outputs": [],
   "source": [
    "df2.Diameter = df2.apply(Weight_correct_form,axis=1)\n",
    "df2.Weight = df2.Weight.replace(to_replace=r'\\w+\\.+\\w+\\s+cm$',value='',regex=True)"
   ]
  },
  {
   "cell_type": "code",
   "execution_count": 429,
   "metadata": {
    "collapsed": false
   },
   "outputs": [
    {
     "data": {
      "text/plain": [
       "(0, 37)"
      ]
     },
     "execution_count": 429,
     "metadata": {},
     "output_type": "execute_result"
    }
   ],
   "source": [
    "df2[df2.Weight.str.contains('cm',case=False)].shape"
   ]
  },
  {
   "cell_type": "code",
   "execution_count": 443,
   "metadata": {
    "collapsed": true
   },
   "outputs": [],
   "source": [
    "df2.BeginDate = df2.BeginDate.replace('Lighting Technology',100)\n",
    "df2.EndDate = df2.EndDate.replace('Lighting devices', 100)"
   ]
  },
  {
   "cell_type": "code",
   "execution_count": 431,
   "metadata": {
    "collapsed": false
   },
   "outputs": [
    {
     "data": {
      "text/html": [
       "<div>\n",
       "<table border=\"1\" class=\"dataframe\">\n",
       "  <thead>\n",
       "    <tr style=\"text-align: right;\">\n",
       "      <th></th>\n",
       "      <th>artifactNumber</th>\n",
       "      <th>ObjectName</th>\n",
       "      <th>GeneralDescription</th>\n",
       "      <th>model</th>\n",
       "      <th>SerialNumber</th>\n",
       "      <th>Manufacturer</th>\n",
       "      <th>ManuCountry</th>\n",
       "      <th>ManuProvince</th>\n",
       "      <th>ManuCity</th>\n",
       "      <th>BeginDate</th>\n",
       "      <th>...</th>\n",
       "      <th>material</th>\n",
       "      <th>Length</th>\n",
       "      <th>Width</th>\n",
       "      <th>Height</th>\n",
       "      <th>Thickness</th>\n",
       "      <th>Weight</th>\n",
       "      <th>Diameter</th>\n",
       "      <th>image</th>\n",
       "      <th>thumbnail</th>\n",
       "      <th>Unnamed: 36</th>\n",
       "    </tr>\n",
       "  </thead>\n",
       "  <tbody>\n",
       "  </tbody>\n",
       "</table>\n",
       "<p>0 rows × 37 columns</p>\n",
       "</div>"
      ],
      "text/plain": [
       "Empty DataFrame\n",
       "Columns: [artifactNumber, ObjectName, GeneralDescription, model, SerialNumber, Manufacturer, ManuCountry, ManuProvince, ManuCity, BeginDate, EndDate, date_qualifier, patent, NumberOfComponents, ArtifactFinish, ContextCanada, ContextFunction, ContextTechnical, group1, category1, subcategory1, group2, category2, subcategory2, group3, category3, subcategory3, material, Length, Width, Height, Thickness, Weight, Diameter, image, thumbnail, Unnamed: 36]\n",
       "Index: []\n",
       "\n",
       "[0 rows x 37 columns]"
      ]
     },
     "execution_count": 431,
     "metadata": {},
     "output_type": "execute_result"
    }
   ],
   "source": [
    "#df2.BeginDate.fillna('boo')\n",
    "df2[df2.BeginDate=='Lighting Technology']"
   ]
  },
  {
   "cell_type": "code",
   "execution_count": 444,
   "metadata": {
    "collapsed": false
   },
   "outputs": [
    {
     "data": {
      "text/html": [
       "<div>\n",
       "<table border=\"1\" class=\"dataframe\">\n",
       "  <thead>\n",
       "    <tr style=\"text-align: right;\">\n",
       "      <th></th>\n",
       "      <th>artifactNumber</th>\n",
       "      <th>ObjectName</th>\n",
       "      <th>GeneralDescription</th>\n",
       "      <th>model</th>\n",
       "      <th>SerialNumber</th>\n",
       "      <th>Manufacturer</th>\n",
       "      <th>ManuCountry</th>\n",
       "      <th>ManuProvince</th>\n",
       "      <th>ManuCity</th>\n",
       "      <th>BeginDate</th>\n",
       "      <th>...</th>\n",
       "      <th>material</th>\n",
       "      <th>Length</th>\n",
       "      <th>Width</th>\n",
       "      <th>Height</th>\n",
       "      <th>Thickness</th>\n",
       "      <th>Weight</th>\n",
       "      <th>Diameter</th>\n",
       "      <th>image</th>\n",
       "      <th>thumbnail</th>\n",
       "      <th>Unnamed: 36</th>\n",
       "    </tr>\n",
       "  </thead>\n",
       "  <tbody>\n",
       "  </tbody>\n",
       "</table>\n",
       "<p>0 rows × 37 columns</p>\n",
       "</div>"
      ],
      "text/plain": [
       "Empty DataFrame\n",
       "Columns: [artifactNumber, ObjectName, GeneralDescription, model, SerialNumber, Manufacturer, ManuCountry, ManuProvince, ManuCity, BeginDate, EndDate, date_qualifier, patent, NumberOfComponents, ArtifactFinish, ContextCanada, ContextFunction, ContextTechnical, group1, category1, subcategory1, group2, category2, subcategory2, group3, category3, subcategory3, material, Length, Width, Height, Thickness, Weight, Diameter, image, thumbnail, Unnamed: 36]\n",
       "Index: []\n",
       "\n",
       "[0 rows x 37 columns]"
      ]
     },
     "execution_count": 444,
     "metadata": {},
     "output_type": "execute_result"
    }
   ],
   "source": [
    "df2[df2.BeginDate=='Lighting devices']"
   ]
  },
  {
   "cell_type": "code",
   "execution_count": 445,
   "metadata": {
    "collapsed": false
   },
   "outputs": [],
   "source": [
    "df2['BeginDate_clean'] = df2.BeginDate.astype(int)\n",
    "df2['EndDate_clean'] = df2.EndDate.astype(int)"
   ]
  },
  {
   "cell_type": "code",
   "execution_count": 296,
   "metadata": {
    "collapsed": true
   },
   "outputs": [],
   "source": [
    "#begindate_correct_form = lambda x:x['BeginDate'] if 'gy' in x['BeginDate'] else x['group1']"
   ]
  },
  {
   "cell_type": "code",
   "execution_count": 452,
   "metadata": {
    "collapsed": false
   },
   "outputs": [],
   "source": [
    "#df2.group1 = df2.apply(begindate_correct_form,axis=1)\n",
    "#df2.BeginDate = df2.BeginDate.replace(to_replace=r'\\w+\\.+\\w+\\s+gy$',value='',regex=True)"
   ]
  },
  {
   "cell_type": "code",
   "execution_count": 453,
   "metadata": {
    "collapsed": false
   },
   "outputs": [
    {
     "data": {
      "text/plain": [
       "<matplotlib.collections.PathCollection at 0x14ea00a90>"
      ]
     },
     "execution_count": 453,
     "metadata": {},
     "output_type": "execute_result"
    },
    {
     "data": {
      "image/png": "[encoded data removed]",
      "text/plain": [
       "<matplotlib.figure.Figure at 0x2a3949550>"
      ]
     },
     "metadata": {},
     "output_type": "display_data"
    }
   ],
   "source": [
    "import matplotlib.pyplot as plt\n",
    "plt.scatter(df2['BeginDate_clean'], df2['EndDate_clean'])"
   ]
  },
  {
   "cell_type": "code",
   "execution_count": 448,
   "metadata": {
    "collapsed": false
   },
   "outputs": [
    {
     "data": {
      "text/plain": [
       "<bound method Series.unique of 0           50\n",
       "1           50\n",
       "2           50\n",
       "3           50\n",
       "4           50\n",
       "5           50\n",
       "6           50\n",
       "7         1960\n",
       "8           50\n",
       "9           50\n",
       "10          50\n",
       "11          50\n",
       "12          50\n",
       "13          50\n",
       "14          50\n",
       "15          50\n",
       "16          50\n",
       "17          50\n",
       "18        1910\n",
       "19          50\n",
       "20          50\n",
       "21          50\n",
       "22          50\n",
       "23          50\n",
       "24          50\n",
       "25        1950\n",
       "26          50\n",
       "27        1930\n",
       "28          50\n",
       "29          50\n",
       "          ... \n",
       "105094    2013\n",
       "105095      50\n",
       "105096      50\n",
       "105097      50\n",
       "105098      50\n",
       "105099      50\n",
       "105100      50\n",
       "105101      50\n",
       "105102      50\n",
       "105103      50\n",
       "105104      50\n",
       "105105      50\n",
       "105106      50\n",
       "105107      50\n",
       "105108      50\n",
       "105109      50\n",
       "105110      50\n",
       "105111      50\n",
       "105112      50\n",
       "105113      50\n",
       "105114      50\n",
       "105115      50\n",
       "105116      50\n",
       "105117      50\n",
       "105118      50\n",
       "105119      50\n",
       "105120      50\n",
       "105121      50\n",
       "105122    1910\n",
       "105123      50\n",
       "Name: EndDate_clean, dtype: int64>"
      ]
     },
     "execution_count": 448,
     "metadata": {},
     "output_type": "execute_result"
    }
   ],
   "source": [
    "df2.EndDate_clean.unique"
   ]
  },
  {
   "cell_type": "code",
   "execution_count": 461,
   "metadata": {
    "collapsed": false
   },
   "outputs": [
    {
     "data": {
      "text/plain": [
       "<matplotlib.axes._subplots.AxesSubplot at 0x18a01cc10>"
      ]
     },
     "execution_count": 461,
     "metadata": {},
     "output_type": "execute_result"
    },
    {
     "data": {
      "image/png": "[encoded data removed]",
      "text/plain": [
       "<matplotlib.figure.Figure at 0x14e856f10>"
      ]
     },
     "metadata": {},
     "output_type": "display_data"
    }
   ],
   "source": [
    "(df2.EndDate_clean // 10 * 10).value_counts().sort_index().plot(kind='bar')"
   ]
  },
  {
   "cell_type": "code",
   "execution_count": 459,
   "metadata": {
    "collapsed": false
   },
   "outputs": [
    {
     "data": {
      "text/plain": [
       "<matplotlib.axes._subplots.AxesSubplot at 0x187c82710>"
      ]
     },
     "execution_count": 459,
     "metadata": {},
     "output_type": "execute_result"
    },
    {
     "data": {
      "image/png": "[encoded data removed]",
      "text/plain": [
       "<matplotlib.figure.Figure at 0x2b1f60790>"
      ]
     },
     "metadata": {},
     "output_type": "display_data"
    }
   ],
   "source": [
    "(df2.BeginDate_clean // 10 * 10).value_counts().sort_index().plot(kind='bar')"
   ]
  },
  {
   "cell_type": "code",
   "execution_count": 464,
   "metadata": {
    "collapsed": false
   },
   "outputs": [
    {
     "data": {
      "text/plain": [
       "<matplotlib.axes._subplots.AxesSubplot at 0x150d74790>"
      ]
     },
     "execution_count": 464,
     "metadata": {},
     "output_type": "execute_result"
    },
    {
     "data": {
      "image/png": "[encoded data removed]",
      "text/plain": [
       "<matplotlib.figure.Figure at 0x152947d90>"
      ]
     },
     "metadata": {},
     "output_type": "display_data"
    }
   ],
   "source": [
    "((df2.BeginDate_clean // 10 * 10) > 100).value_counts().sort_index().plot(kind='area')"
   ]
  },
  {
   "cell_type": "code",
   "execution_count": null,
   "metadata": {
    "collapsed": false
   },
   "outputs": [],
   "source": []
  },
  {
   "cell_type": "code",
   "execution_count": null,
   "metadata": {
    "collapsed": true
   },
   "outputs": [],
   "source": []
  },
  {
   "cell_type": "code",
   "execution_count": null,
   "metadata": {
    "collapsed": true
   },
   "outputs": [],
   "source": []
  },
  {
   "cell_type": "code",
   "execution_count": null,
   "metadata": {
    "collapsed": true
   },
   "outputs": [],
   "source": []
  },
  {
   "cell_type": "code",
   "execution_count": null,
   "metadata": {
    "collapsed": true
   },
   "outputs": [],
   "source": []
  },
  {
   "cell_type": "code",
   "execution_count": null,
   "metadata": {
    "collapsed": true
   },
   "outputs": [],
   "source": []
  },
  {
   "cell_type": "code",
   "execution_count": null,
   "metadata": {
    "collapsed": true
   },
   "outputs": [],
   "source": []
  },
  {
   "cell_type": "code",
   "execution_count": 47,
   "metadata": {
    "collapsed": false
   },
   "outputs": [],
   "source": []
  },
  {
   "cell_type": "code",
   "execution_count": 48,
   "metadata": {
    "collapsed": true
   },
   "outputs": [],
   "source": []
  },
  {
   "cell_type": "code",
   "execution_count": 466,
   "metadata": {
    "collapsed": false
   },
   "outputs": [
    {
     "data": {
      "text/html": [
       "<div>\n",
       "<table border=\"1\" class=\"dataframe\">\n",
       "  <thead>\n",
       "    <tr style=\"text-align: right;\">\n",
       "      <th></th>\n",
       "      <th>artifactNumber</th>\n",
       "      <th>material</th>\n",
       "      <th>Length</th>\n",
       "      <th>Height</th>\n",
       "      <th>Thickness</th>\n",
       "      <th>Weight</th>\n",
       "      <th>Diameter</th>\n",
       "    </tr>\n",
       "  </thead>\n",
       "  <tbody>\n",
       "    <tr>\n",
       "      <th>0</th>\n",
       "      <td>1966.0001.001</td>\n",
       "      <td>paper</td>\n",
       "      <td>4.5 cm</td>\n",
       "      <td></td>\n",
       "      <td></td>\n",
       "      <td></td>\n",
       "      <td></td>\n",
       "    </tr>\n",
       "    <tr>\n",
       "      <th>1</th>\n",
       "      <td>1966.0002.001</td>\n",
       "      <td>paper</td>\n",
       "      <td>3.8 cm</td>\n",
       "      <td></td>\n",
       "      <td></td>\n",
       "      <td></td>\n",
       "      <td></td>\n",
       "    </tr>\n",
       "    <tr>\n",
       "      <th>2</th>\n",
       "      <td>1966.0003.001</td>\n",
       "      <td>paper</td>\n",
       "      <td>12.8 cm</td>\n",
       "      <td></td>\n",
       "      <td></td>\n",
       "      <td></td>\n",
       "      <td></td>\n",
       "    </tr>\n",
       "    <tr>\n",
       "      <th>3</th>\n",
       "      <td>1966.0004.001</td>\n",
       "      <td>paper</td>\n",
       "      <td>22.4 cm</td>\n",
       "      <td></td>\n",
       "      <td></td>\n",
       "      <td></td>\n",
       "      <td></td>\n",
       "    </tr>\n",
       "    <tr>\n",
       "      <th>4</th>\n",
       "      <td>1966.0005.001</td>\n",
       "      <td>paper</td>\n",
       "      <td>22.7 cm</td>\n",
       "      <td></td>\n",
       "      <td></td>\n",
       "      <td></td>\n",
       "      <td></td>\n",
       "    </tr>\n",
       "  </tbody>\n",
       "</table>\n",
       "</div>"
      ],
      "text/plain": [
       "  artifactNumber material   Length Height Thickness Weight Diameter\n",
       "0  1966.0001.001    paper   4.5 cm                                 \n",
       "1  1966.0002.001    paper   3.8 cm                                 \n",
       "2  1966.0003.001    paper  12.8 cm                                 \n",
       "3  1966.0004.001    paper  22.4 cm                                 \n",
       "4  1966.0005.001    paper  22.7 cm                                 "
      ]
     },
     "execution_count": 466,
     "metadata": {},
     "output_type": "execute_result"
    }
   ],
   "source": [
    "df2[['artifactNumber','material','Length','Height','Thickness','Weight','Diameter']].head()"
   ]
  },
  {
   "cell_type": "markdown",
   "metadata": {},
   "source": [
    "## Can you count something interesting?"
   ]
  },
  {
   "cell_type": "code",
   "execution_count": null,
   "metadata": {
    "collapsed": true
   },
   "outputs": [],
   "source": []
  },
  {
   "cell_type": "markdown",
   "metadata": {},
   "source": [
    "## Can you make a bar plot or a histogram? Can you compare two related quantities?"
   ]
  },
  {
   "cell_type": "code",
   "execution_count": null,
   "metadata": {
    "collapsed": true
   },
   "outputs": [],
   "source": []
  },
  {
   "cell_type": "markdown",
   "metadata": {},
   "source": [
    "## Can you find some trends (high, low, increase, decrease, anomalies)? Can you make a scatterplot?"
   ]
  },
  {
   "cell_type": "code",
   "execution_count": null,
   "metadata": {
    "collapsed": true
   },
   "outputs": [],
   "source": []
  },
  {
   "cell_type": "markdown",
   "metadata": {},
   "source": [
    "## Can you make a time-series plot?"
   ]
  },
  {
   "cell_type": "code",
   "execution_count": null,
   "metadata": {
    "collapsed": true
   },
   "outputs": [],
   "source": []
  },
  {
   "cell_type": "markdown",
   "metadata": {},
   "source": [
    "## Having made these plots, what are some insights you get from them? Do you see any correlations?"
   ]
  },
  {
   "cell_type": "code",
   "execution_count": null,
   "metadata": {
    "collapsed": true
   },
   "outputs": [],
   "source": []
  },
  {
   "cell_type": "markdown",
   "metadata": {},
   "source": [
    "## Is there a hypothesis you would like to investigate further? What other questions do they lead you to ask?"
   ]
  },
  {
   "cell_type": "code",
   "execution_count": null,
   "metadata": {
    "collapsed": true
   },
   "outputs": [],
   "source": []
  },
  {
   "cell_type": "markdown",
   "metadata": {},
   "source": [
    "## Is there an interesting narrative, a way of presenting the insights using text and plots from the above, that tells a compelling story? As you work out this story, what are some other trends/relationships you think will make it more complete?"
   ]
  },
  {
   "cell_type": "code",
   "execution_count": null,
   "metadata": {
    "collapsed": true
   },
   "outputs": [],
   "source": []
  },
  {
   "cell_type": "markdown",
   "metadata": {},
   "source": [
    "## Submit links to a Github repository containing a Jupyter notebook. The notebook should contain: The questions you asked. The trends you investigated. The resulting visualizations and conclusions.In case the data set is too large to commit to Github, please include a link to the data set inside the Jupyter notebook."
   ]
  },
  {
   "cell_type": "code",
   "execution_count": null,
   "metadata": {
    "collapsed": true
   },
   "outputs": [],
   "source": []
  },
  {
   "cell_type": "code",
   "execution_count": null,
   "metadata": {
    "collapsed": true
   },
   "outputs": [],
   "source": []
  }
 ],
 "metadata": {
  "anaconda-cloud": {},
  "kernelspec": {
   "display_name": "Python [conda root]",
   "language": "python",
   "name": "conda-root-py"
  },
  "language_info": {
   "codemirror_mode": {
    "name": "ipython",
    "version": 2
   },
   "file_extension": ".py",
   "mimetype": "text/x-python",
   "name": "python",
   "nbconvert_exporter": "python",
   "pygments_lexer": "ipython2",
   "version": "2.7.12"
  }
 },
 "nbformat": 4,
 "nbformat_minor": 1
}
